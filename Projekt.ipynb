{
 "cells": [
  {
   "cell_type": "markdown",
   "metadata": {
    "tags": []
   },
   "source": [
    "# Projekt dotyczący równań różcznikowych w technice"
   ]
  },
  {
   "cell_type": "markdown",
   "metadata": {},
   "source": [
    "Krzysztof Jankowski, Damian Szuster"
   ]
  },
  {
   "cell_type": "markdown",
   "metadata": {},
   "source": [
    "# Część I: Wprowadzenie"
   ]
  },
  {
   "cell_type": "markdown",
   "metadata": {},
   "source": [
    "# Część II: Model"
   ]
  },
  {
   "cell_type": "markdown",
   "metadata": {},
   "source": [
    "Rozpatrujemy model logistyczny z pojemnością środowiska zmienną w czasie $$\\frac{dy}{dt}=ry(1-\\frac{y}{K(t)}),$$ gdzie: \r\n",
    "\r\n",
    "$y(t)$ - liczebność populacji w czasie $t$,\r\n",
    "\r\n",
    "$r$ - współczynnik tempa wzrostu populacji, \r\n",
    "\r\n",
    "$K(t)$ - pojemność środowiska w czasie $t$."
   ]
  },
  {
   "cell_type": "markdown",
   "metadata": {},
   "source": [
    "Rozwiązujemy równanie logistyczne z danym warunkiem początkowym $y(0)=y_{0}$.\r\n",
    "$$\\frac{dy}{dt}=ry-\\frac{ry^{2}}{K(t)}$$\r\n",
    "$$\\frac{dy}{dt}-ry=-\\frac{ry^{2}}{K(t)}$$"
   ]
  },
  {
   "cell_type": "markdown",
   "metadata": {},
   "source": [
    "Mnożymy obie strony równania przez $\\frac{-1}{y^{2}}$."
   ]
  },
  {
   "cell_type": "markdown",
   "metadata": {},
   "source": [
    "$$\\frac{-1}{y^{2}}\\frac{dy}{dt}+\\frac{r}{y}=\\frac{r}{K(t)}$$"
   ]
  },
  {
   "cell_type": "markdown",
   "metadata": {},
   "source": [
    "Zastosujemy teraz podstawienie $u=y^{-1}$. Stąd $u'=\\frac{y'}{y^{2}}$, a zatem"
   ]
  },
  {
   "cell_type": "markdown",
   "metadata": {},
   "source": [
    "$$u'+ru=\\frac{r}{K(t)}.$$"
   ]
  },
  {
   "cell_type": "markdown",
   "metadata": {},
   "source": [
    "Mnożymy obie strony równania przez czynnik całkujący: $e^{\\int p(t) \\operatorname{dt}}$, gdzie $p(t)=r$."
   ]
  },
  {
   "cell_type": "markdown",
   "metadata": {},
   "source": [
    "$$e^{rt}u'+e^{rt}ru=\\frac{re^{rt}}{K(t)}$$\r\n",
    "$$(ue^{rt})'=\\frac{re^{rt}}{K(t)}$$\r\n",
    "$$ue^{rt}=\\int \\frac{re^{rt}}{K(t)} \\operatorname{dt}$$\r\n",
    "$$u=\\frac{r}{e^{rt}}\\int \\frac{re^{rt}}{K(t)} \\operatorname{dt}$$"
   ]
  },
  {
   "cell_type": "markdown",
   "metadata": {},
   "source": [
    "Teraz wyznaczymy funkcję $K(t)$. W tym celu zakładamy, że pojemność środowiska rośnie zgodnie z modelem Malthusa.\r\n",
    "$$\\frac{dK}{dt}=(b-d)K,$$\r\n",
    "gdzie $b$ jest współczynnikiem rozrostu pojemności środowiska, a $d$ jest współczynnikiem jej zmniejszania."
   ]
  },
  {
   "cell_type": "markdown",
   "metadata": {},
   "source": [
    "Rozwiązujemy to równanie z danym warunkiem początkowym $K(0)=K_{0}$, stosując metodę rozdzielania zmiennych.\r\n",
    "$$\\frac{1}{K} \\frac{dK}{dt}=b-d$$\r\n",
    "$$\\int \\frac{dK}{K}=\\int b-d \\operatorname{dt}$$\r\n",
    "$$ln K=(b-d)t+C$$\r\n",
    "$$K=e^{(b-d)t+C}=De^{(b-d)t}$$"
   ]
  },
  {
   "cell_type": "markdown",
   "metadata": {},
   "source": [
    "Uwzględniając warunek początkowy otrzymujemy naszą szukaną funkcję $K$.\r\n",
    "$$K_{0}=De^{0}=D$$\r\n",
    "$$K(t)=K_{0}e^{(b-d)t}$$"
   ]
  },
  {
   "cell_type": "markdown",
   "metadata": {},
   "source": [
    "Wracając do równania z funkcją $u$, podstawiamy wyliczoną funkcję $K(t)$.\r\n",
    "$$u=\\frac{r}{e^{rt}}\\int \\frac{re^{rt}}{K_{0}e^{(b-d)t}} \\operatorname{dt}$$\r\n",
    "$$u=\\frac{r}{K_{0}e^{rt}}\\int e^{t(r-b+d)} \\operatorname{dt}$$\r\n",
    "$$u=\\frac{r}{K_{0}e^{rt}}(\\frac{e^{(r-b+d)t}}{r-b+d}+C_{1})$$"
   ]
  },
  {
   "cell_type": "markdown",
   "metadata": {},
   "source": [
    "Stąd $$y(t)=\\frac{K_{0}e^{rt}}{r(\\frac{e^{(r-b+d)t}}{r-b+d}+C_{1})}$$"
   ]
  },
  {
   "cell_type": "markdown",
   "metadata": {},
   "source": [
    "Ostatni krok to wyznaczenie stałej $C_{1}$. Wobec tego skorzystamy z warunku początkowego $y(0)=y_{0}.$\r\n",
    "$$y_{0}=\\frac{K_{0}}{r(\\frac{1}{r-b+d}+C_{1})}$$\r\n",
    "$$y_{0}r(\\frac{1}{r-b+d}+C_{1})=K_{0}$$\r\n",
    "$$\\frac{1}{r-b+d}+C_{1}=\\frac{K_{0}}{y_{0}r}$$\r\n",
    "$$C_{1}=\\frac{K_{0}}{y_{0}r}-\\frac{1}{r-b+d}$$"
   ]
  },
  {
   "cell_type": "markdown",
   "metadata": {},
   "source": [
    "Zatem $$y(t)=\\frac{K_{0}e^{rt}}{r(\\frac{e^{(r-b+d)t}}{r-b+d}+\\frac{K_{0}}{y_{0}r}-\\frac{1}{r-b+d})}=\\frac{K_{0}e^{rt}}{r(\\frac{e^{(r-b+d)t}-1}{r-b+d}+\\frac{K_{0}}{y_{0}r})}.$$"
   ]
  },
  {
   "cell_type": "markdown",
   "metadata": {},
   "source": [
    "# Część III : Metody numeryczne"
   ]
  },
  {
   "cell_type": "code",
   "execution_count": null,
   "metadata": {},
   "outputs": [],
   "source": [
    "import numpy as np\n",
    "import matplotlib.pyplot as plt\n",
    "%matplotlib inline\n",
    "\n",
    "###STRUKTURA DANYCH###\n",
    "class Queue():\n",
    "    def __init__(self):\n",
    "        self.l = []\n",
    "    \n",
    "    def enqueue(self, item):\n",
    "        self.l.append(item)\n",
    "    \n",
    "    def  dequeue(self):\n",
    "        return self.l.pop(0)\n",
    "    \n",
    "    def is_empty(self):\n",
    "        return self.l == []\n",
    "    \n",
    "    def size(self):\n",
    "        return len(self.l)\n",
    "    \n",
    "    def get_item(self, i):\n",
    "        if i >= self.size():\n",
    "            return False\n",
    "        return self.l[i]"
   ]
  },
  {
   "cell_type": "markdown",
   "metadata": {},
   "source": [
    "Często w rozwiązywaniu problemów matemeatycznych wzór analityczny szukanego rozwiązania jest niewystarczający. Inżynierowie i naukowcy wielokrotnie potrzebują konkretnej wartości liczbowej do kontynuacji badania danego zagadnienia, czy rozwiązania danego problemu. Z odsieczą przychodzą komputery, które ze swojej definicji specjalizują się w obliczeniach, jednakże jest to obciążone faktem, iż mają one ograniczoną pamięć operacyjną i dla takiego to komputera obce jest pojęcie liczby niewymiernej. Stąd komputery używają różnych aproksymacji i zaokrągleń w dziedzinach matematyki. Mimo to, są bardzo pomocne w szukaniu wartości liczbowych różnych wyrażeń matematycznych, w tym choćby interesujących nas równań różniczkowych. Korzystają one z tak zwanych metod numerycznych, które z różną skutecznością pozwalają przybliżyć szukaną wartość zagadnienia pocztkowego Cauchy'ego. W tej sekcji przyjrzymy się kilku z nim i zaaplikujemy je do naszego modelu. Metody prezentowane są w kolejności odpowiadającej precyzyjności ich aproksymacji od tych z największym błędem do coraz to precyzyjniejszych."
   ]
  },
  {
   "cell_type": "markdown",
   "metadata": {},
   "source": [
    "## Metoda Eulera"
   ]
  },
  {
   "cell_type": "markdown",
   "metadata": {},
   "source": [
    "Weźmy początkowe zagadnienie Cauchy'ego postaci $$\\begin{cases}\\frac{\\text{d}y}{\\text{d}t}=f(t,y),\\\\y(t_0)=y_0.\\end{cases} $$\n",
    "Załóżmy, że funkcje $f$ i $f_y$ są ciągłe na pewnym prostokącie na płaszczyźnie $ty$ zawierającym punkt $(t_0,y_0)$. z twierdzenia ............... wiemy, że istnieje unikatowe rozwiązanie $y = \\phi(t)$ dla zadanego problemu w punkcie $t_0$. Przybliżenie rozwiązania otrzymujemy poprzez zastosowanie szeregu Taylora do naszej funkcji."
   ]
  },
  {
   "cell_type": "markdown",
   "metadata": {},
   "source": [
    "Przypomnijmy, że szereg Taylora można zapisać w postaci $$ x(t+h) = x(t) + hx'(t) + \\frac{1}{2!}h^2x''(t)+ \\frac{1}{3!}h^3x'''(t) + \\dots  .$$"
   ]
  },
  {
   "cell_type": "markdown",
   "metadata": {},
   "source": [
    "Metodę Eulera nazywamy metodą rzędu pierwszego, gdyż odrzucamy wszystkie wyrażenia z pochdną rzędu większego niż $1$. Zamiast pewnego $h$ dokonajmy podziału na ciąg odcinków $t_n$. Wtedy możemymy wyprowadzić następujący wzór \n",
    "$$\\begin{gathered} \n",
    "    x(t_{n+1})\\approx x(t_n) + (t_{n+1}-t_n)f(t_n,x(t_n)), \\\\\n",
    "    \\frac{x(t_{n+1}) - x(t_n)}{t_{n+1}-t_n} \\approx f(t_n,x(t_n)).\n",
    "\\end{gathered}$$"
   ]
  },
  {
   "cell_type": "markdown",
   "metadata": {},
   "source": [
    "Jeżeli następnie zamienimy funkcję $x(t)$ w punktach $t_{n+1}$ i $t_n$ przez odpowiadające im wartości $y_{n+1}$ i $y_n$ otrzymamy wzór Eulera $$y_{n+1}=y_n+f(t_n,y_n)(t_{n+1}-t_n), \\quad \\text{gdzie}\\quad n=0,1,2,\\dots$$"
   ]
  },
  {
   "cell_type": "markdown",
   "metadata": {},
   "source": [
    "Dla metod numerycznych bardziej uzasadniony jest zapis pierwszy , gdyż pozwala podać ustalony krok $h$ i w $n$ krokach obliczać $$\\begin{gathered}\n",
    "f_n:=f(t,y),\\\\\n",
    "y:=y+h\\cdot f_n,\\\\\n",
    "t:=t+h.\n",
    "\\end{gathered}\n",
    "$$"
   ]
  },
  {
   "cell_type": "markdown",
   "metadata": {},
   "source": [
    "Stąd łatwo zauważyć, że błąd przybliżenia zależny będzie od zadanego rozmiaru kroku $h$, liczby króków $n$, no i przede wszystkim od reszty Lagrange'a czyli $$R_2=\\frac{f^{(2)}(c)x^2}{2!},$$ gdzie $c$ leży między $0$ i $x$."
   ]
  },
  {
   "cell_type": "markdown",
   "metadata": {},
   "source": [
    "Teraz zaaplikujemy metodę Eulera do naszego problemu, aby znaleźć numerycznie rozwiązanie zagadnienia początkowego."
   ]
  },
  {
   "cell_type": "code",
   "execution_count": null,
   "metadata": {},
   "outputs": [
    {
     "data": {
      "image/png": "[encoded data removed]",
      "text/plain": [
       "<Figure size 432x288 with 1 Axes>"
      ]
     },
     "metadata": {
      "needs_background": "light"
     },
     "output_type": "display_data"
    }
   ],
   "source": [
    "###DEFINICJA METODY NUMERYCZNEJ###\n",
    "def euler_method(f, t0, y0, h, n):\n",
    "    ts = np.ndarray(n + 1, dtype = float)\n",
    "    ys = np.ndarray(n + 1, dtype = float)\n",
    "    ts[0] = t0\n",
    "    ys[0] = y0\n",
    "    for i in range(n):\n",
    "        ys[i + 1] = ys[i] + h * f(ts[i], ys[i])\n",
    "        ts[i + 1] = ts[i] + h\n",
    "    return ts, ys\n",
    "\n",
    "###DANE##\n",
    "t0 = 0\n",
    "tk = 3\n",
    "y0 = -1\n",
    "h = 0.1\n",
    "n = (tk + h) // h\n",
    "f = lambda t, y: np.sin(y ** 2)\n",
    "#f = lambda y,t: np.sin(y**2)\n",
    "#ts_, ys_ = euler_method(f, t0, y0, h, int(n))\n",
    "\n",
    "for y0 in np.arange(-3,3,0.25):\n",
    "    ts_, ys_ = euler_method(f, t0, y0, h, int(n))\n",
    "    plt.plot(ts_, ys_, 'b-')#numerical\n",
    "\n",
    "###WYKRES###\n",
    "#plt.plot(ts_, ys_, 'r.-')#numerical\n",
    "#plt.plot(ts_, -1 / (ts_ + 1), 'b')\n",
    "#plt.legend(['Euler', 'anlitycznie'])\n",
    "plt.grid(1)\n",
    "#plt.axis([0, tk, 0, ys_[-1] + 1])\n",
    "plt.show()"
   ]
  },
  {
   "cell_type": "markdown",
   "metadata": {},
   "source": [
    "## Metoda Heun'a"
   ]
  },
  {
   "cell_type": "markdown",
   "metadata": {},
   "source": [
    "W niektórych rozważaniach rozważamy tak zwaną metodę Eulera z opóźnionym argumentem. W takiej sytuajci nasza formuła wygląda następująco $$y_{n+1}=y_n+h\\cdot f(t_{n+1},y_{n+1})$$"
   ]
  },
  {
   "cell_type": "markdown",
   "metadata": {},
   "source": [
    "Rozważmy pewne ulepszenia aproksymacji uzyskanej za pomocą metody Eulera. Weźmy jeszcze raz nasze zagadnienie początkowe i zcałkujmy równanie różniczkowe obustronnie. Mamy $$\\begin{gathered}\n",
    "y'=f(t,y(t)),\\\\\n",
    "\\int_{t_n}^{t_{n+1}}\\frac{\\text{d}y}{\\text{d}t}\\text{d}t=y(t_{n+1})-y{t_n}=\\int_{t_n}^{t_n+1}f(t,y(t))\\text{d}t,\\\\\n",
    "y(t_{n+1})=y(t_n)+\\int_{t_n}^{t_n+1}f(t,y(t))\\text{d}t.\n",
    "\\end{gathered}\n",
    "$$"
   ]
  },
  {
   "cell_type": "markdown",
   "metadata": {},
   "source": [
    "Geometrycznie orzymujemy pole pod krzywą. Z definicji całkie Riemanna pamięteamy, że dokonujemy podziału odcinka, na ciąg nieskończenie małych odcinków, które stają się podstawami prostokątów. Następnym krokiem jest Obranie punktów na przedziałach, które posłużą nam do znalezienia wysokości prostokątów, których pola w całce się liczy. Jak pamiętamy, cyfrowo zmuszeni jesteśmy do ręcznego aproksymowania tych wielkości. Przyglądając się raz jeszcze postawionemu algorytmowi można zauważyć, że wskazane przez nas punkty pośrednie na przedziałach leżą na ich lewych krańcach, co jak łatwo zauważyć, może osłabiać precyzję aproksymacji. Lepszą decyzją zdaje się branie punktów na środkach przedziałów naszego podziału. Wtedy wartość obranych przez nas punktów możemy przedstawić w postaci średniej arytmetycznej czyli $\\frac{1}{2}(f(t_n,y(t_n))+f(t_{n+1},y(t_{n+1}))$. Wtedy otrzymujemy formułe następującej postaci $$\n",
    "y_{n+1}=y_n+\\frac{h}{2}(f(t_n,y_n)+f(t_{n+1},y_{n+1}).\n",
    "$$\n",
    "Na tym etapie problematyczne może okazać się rozwiązanie tego zagadnienia przez pojawienie się $f$ zależnych od wartości zmiennej niezależnej na obu końcach przedziału. Mimo to, łatwo radzimy sobie z tym zagadnieniem poporzez podstawienie $$f(t_{n+1},y_{n+1})=f(t_n+h,y_n+h\\cdot f(t_n,y_n)),$$\n",
    "co prowadzi nas do $$y_{n+1}=y_n+\\frac{h}{2}(f_n+f(t_n+h,y_n+h\\cdot f_n))$$ znanej także jako wzór Heun'a. Przeanalizujmy jak zmieni się nasz wynik po zaaplikowaniu tego rozszerzenia wzoru Eulera."
   ]
  },
  {
   "cell_type": "code",
   "execution_count": null,
   "metadata": {},
   "outputs": [
    {
     "data": {
      "image/png": "[encoded data removed]",
      "text/plain": [
       "<Figure size 432x288 with 1 Axes>"
      ]
     },
     "metadata": {
      "needs_background": "light"
     },
     "output_type": "display_data"
    },
    {
     "data": {
      "text/plain": [
       "'\\n###DANE##\\nt0 = 0\\ny0 = 1\\nh = 2\\nf = lambda y, t:y\\nts_, ys_ = heun_method(f, t0, y0, h, 100)\\n'"
      ]
     },
     "execution_count": 3,
     "metadata": {},
     "output_type": "execute_result"
    }
   ],
   "source": [
    "###DEFINICJA METODY NUMERYCZNEJ###\n",
    "def heun_method(f, t0, y0, h, n):\n",
    "    ts = np.ndarray(n + 1, dtype = float)\n",
    "    ys = np.ndarray(n + 1, dtype = float)\n",
    "    ts[0] = t0\n",
    "    ys[0] = y0\n",
    "    for i in range(n):\n",
    "        fn = f(ts[i], ys[i])\n",
    "        ys[i + 1] = ys[i] + h * 0.5 * (fn + f(ts[i] + h, ys[i] + h * fn))\n",
    "        ts[i + 1] = ts[i] + h\n",
    "    return ts, ys\n",
    "\n",
    "\n",
    "###DANE##\n",
    "t0 = 0\n",
    "tk = 3\n",
    "y0 = -1\n",
    "h = 0.1\n",
    "n = (tk + h) // h\n",
    "f = lambda t, y: np.sin(y ** 2)\n",
    "#f = lambda y,t: np.sin(y**2)\n",
    "#ts_, ys_ = euler_method(f, t0, y0, h, int(n))\n",
    "\n",
    "for y0 in np.arange(-3,3,0.25):\n",
    "    ts_, ys_ = heun_method(f, t0, y0, h, int(n))\n",
    "    plt.plot(ts_, ys_, 'b-')#numerical\n",
    "\n",
    "###WYKRES###\n",
    "#plt.plot(ts_, ys_, 'r.-')#numerical\n",
    "#plt.plot(ts_, -1 / (ts_ + 1), 'b')\n",
    "#plt.legend(['Euler', 'anlitycznie'])\n",
    "plt.grid(1)\n",
    "#plt.axis([0, tk, 0, ys_[-1] + 1])\n",
    "plt.show()\n",
    "\n",
    "\"\"\"\n",
    "###DANE##\n",
    "t0 = 0\n",
    "y0 = 1\n",
    "h = 2\n",
    "f = lambda y, t:y\n",
    "ts_, ys_ = heun_method(f, t0, y0, h, 100)\n",
    "\"\"\""
   ]
  },
  {
   "cell_type": "markdown",
   "metadata": {},
   "source": [
    "## Metody Rungego-Kutty"
   ]
  },
  {
   "cell_type": "markdown",
   "metadata": {},
   "source": [
    "Jak widać metoda Eulera n-tego rzędu - we wcześniejszych przykładach 1-szego rzędu - wymaga obliczania n-tych pochodnych. Ta klasa metod opiera się na obliczaniu pewnych kombinacji wartości $f$. Zróżniczkujmy obustronnie początkowe równanie. Mamy $$\n",
    "\\begin{gathered}\n",
    "y'(t)=f(t,y(t)),\\\\\n",
    "y''(t)=f_t(t,y(t))+f_y(t,y(t))y'(t)=f_t+ff_y,\\\\\n",
    "y'''(t)=f_tt(t,y(t))+f_{ty}(t,y(t))f(t,y(t))+(f_t(t,y(t))+f(t,y(t))f_y(t,y(t)))f_y(t,y(t))+f(t,y(t))(f_{yt}(t,y(t)+f(t,y(t))f+{yy}(t,y(t))),\n",
    "\\end{gathered}$$\n",
    "itd. Wykorzystując wzór Taylora dla funkcji wielu zmiennych otrzymujemy $$y(t+h)=y+fh+\\frac{1}{2}h^2(f_t+ff_y)+O(h^3)=y+\\frac{1}{2}hf+\\frac{1}{2}hf(t+h,y+hf)+O(h^3),$$ gdzie $O(h^3)$ jest resztą Lagrange'a wynikającą z obcięcia pochodnych stopnia wyższego niż 2. Zauważmy, że otrzymany przez nas rezultat to metoda Heuna, którą przed chwilą rozważaliśmy. Zauważmy, że ogólnie metoda Rungego-Knutty rzędu 2 może być przedstawiona w postaci $$\n",
    "y(t+h)=y+w_1hf+w_2hf(t+\\alpha h,y+\\beta hf)+ O(h^3),\\quad\\text{gdzie}\\quad w_1+w_2=1,\\quad w_1\\alpha =0.5 = w_2\\beta).\n",
    "$$"
   ]
  },
  {
   "cell_type": "markdown",
   "metadata": {},
   "source": [
    "Rozpatrzmy metodę Rungego-Kutty rzędu 4. Jej konstrukcja jest analogiczna do konstrukcji 2 rzędu, jednak przez ilość wykluwających się pochodnych w kolejnych krokach różniczkowania, bywa to dość czasochłonne. Finalny wzór ma postać $$\n",
    "y(t+h)\\approx y+\\frac{1}{6}(F_1+2F_2+2F_3+F_4),\n",
    "$$ \n",
    "gdzie \n",
    "$$\\begin{gathered}\n",
    "F_1:=hf(t,y),\\\\\n",
    "F_2:=hf(t+\\frac{1}{2}h,y+\\frac{1}{2}F_1),\\\\\n",
    "F_3:=hf(t+\\frac{1}{2}h,y+\\frac{1}{2}F_2),\\\\\n",
    "F_4:=hf(t+h,y+F_3).\n",
    "\\end{gathered}\n",
    "$$\n",
    "Zaaplikujemy tę metodę do naszego modelu."
   ]
  },
  {
   "cell_type": "code",
   "execution_count": null,
   "metadata": {},
   "outputs": [
    {
     "data": {
      "image/png": "[encoded data removed]",
      "text/plain": [
       "<Figure size 432x288 with 1 Axes>"
      ]
     },
     "metadata": {
      "needs_background": "light"
     },
     "output_type": "display_data"
    }
   ],
   "source": [
    "###DEFINICJA METODY NUMERYCZNEJ###\n",
    "def rungeKutta_method(f, t0, y0, h, n):\n",
    "    \n",
    "    ys = np.ndarray(n + 1, dtype = float)\n",
    "    ts = np.ndarray(n + 1, dtype = float)\n",
    "    \n",
    "    ys[0] = y0\n",
    "    ts[0] = t0\n",
    "    for i in range(n):\n",
    "        f1 = f(ts[i], ys[i])\n",
    "        f2 = f(ts[i] + h * 0.5, ys[i] + h * 0.5 * f1)\n",
    "        f3 = f(ts[i] + h * 0.5, ys[i] + h * 0.5 * f2)\n",
    "        f4 = f(ts[i] + h, ys[i] + h * f3)\n",
    "\n",
    "        ys[i + 1] = ys[i] + (h / 6.0) * (f1 + 2 * f2 + 2 * f3 + f4)\n",
    "        ts[i + 1] = ts[i] + h\n",
    "    return ts, ys\n",
    "\n",
    "\n",
    "\n",
    "###DANE##\n",
    "t0 = 0\n",
    "tk = 3\n",
    "y0 = -1\n",
    "h = 0.1\n",
    "n = (tk + h) // h\n",
    "f = lambda t, y: np.sin(y ** 2)\n",
    "#f = lambda y,t: np.sin(y**2)\n",
    "#ts_, ys_ = euler_method(f, t0, y0, h, int(n))\n",
    "\n",
    "for y0 in np.arange(-3,3,0.25):\n",
    "    ts_, ys_ = rungeKutta_method(f, t0, y0, h, int(n))\n",
    "    plt.plot(ts_, ys_, 'b-')#numerical\n",
    "\n",
    "###WYKRES###\n",
    "#plt.plot(ts_, ys_, 'r.-')#numerical\n",
    "#plt.plot(ts_, -1 / (ts_ + 1), 'b')\n",
    "#plt.legend(['Euler', 'anlitycznie'])\n",
    "plt.grid(1)\n",
    "#plt.axis([0, tk, 0, ys_[-1] + 1])\n",
    "plt.show()\n"
   ]
  },
  {
   "cell_type": "markdown",
   "metadata": {},
   "source": [
    "Jak można zauważyć, metody Rungego-Knutty wymagają w kolejnych krokach algorytmu obliczania pewnej ilości wartości $F_k$ dla odpowiednich k, przez co metody wyższych rzędów stawały się mniej eleganckie w zastosowaniu.  Erwin Fehlberg zaproponował stosowanie metody rzędu 4 wymagającej obliczania 5 wartości oraz 5 rzedu wymagającą obliczaniu 6 wartości, przyczym dokonuje wyboru parametrów (wspomniano oni w wyprowadzeniu wzoru ogólnego dla metody rzędu 2) w taki sposób, by występowały w obu metodach. W ten sposób otrzymujemy przy jednym algorytmie dwa wyniki, jeden dla metody rzędu 4, a drugi dla metody rzędu 5. Metoda ta nosi nazwę metody Rungego-Knutty-Fehlberga.\n",
    "Oto jej postać\n",
    "$$\n",
    "y_1(t+h):=y(t)+\\sum^6_{k=1}a_kF_k,\\quad y_2(t+h):=y(t)+\\sum^6_{k=1}b_kF_k,$$ gdzie $$\n",
    "F_k:=hf(t + c_kh,y+\\sum^{k-1}_{j=1}d_{kj}F_j).\n",
    "$$"
   ]
  },
  {
   "cell_type": "markdown",
   "metadata": {},
   "source": [
    "| i | $a_i$ | $b_i$ | $c_i$ | $d_{i1}$ | $d_{i2}$ | $d_{i3}$ |$d_{i4}$ | $d_{i5}$|\n",
    "| --- | --- | --- | --- | --- | --- | --- | --- | --- |\n",
    "|1|$\\frac{16}{135}$|$0$|-|-|-|-|-|-|\n",
    "| 2 | $0$ | $0 $|$\\frac{1}{4}$|$\\frac{1}{4}$| - | - | - | - |\n",
    "| 3 | $\\frac{6656}{12825}$| $-\\frac{128}{4275}$ | $\\frac{3}{8}$ | $\\frac{3}{32}$ | $\\frac{9}{32}$ | - | - |\n",
    "| 4 | $\\frac{28561}{56430}$ | $-\\frac{2197}{75240}$ | $\\frac{12}{13}$ | $\\frac{1932}{2197}$ | $-\\frac{7200}{2197}$ | $\\frac{7296}{2197}$ | - | - |\n",
    "| 5 | $-\\frac{9}{50}$ | $\\frac{1}{50}$ | $1$ | $\\frac{439}{216}$ | $-8$ | $\\frac{3680}{513}$ | $-\\frac{845}{4104}$ | - |\n",
    "| 6 | $\\frac{2}{55}$ | $\\frac{2}{55}$ | $\\frac{1}{2}$ | $-\\frac{8}{27}$ | $2$ | $-\\frac{3544}{2565}$ | $\\frac{1859}{4101}$ | $-\\frac{11}{40}$ |\n",
    "\n"
   ]
  },
  {
   "cell_type": "code",
   "execution_count": null,
   "metadata": {},
   "outputs": [],
   "source": [
    "###DEFINICJA METODY NUMERYCZNEJ###\n",
    "def rungeKuttaFehlberg_method(f, t0, y0, h, delta, n, tk):\n",
    "    ys = np.ndarray(n + 1, dtype = float)\n",
    "    ts = np.ndarray(n + 1, dtype = float)\n",
    "    \n",
    "    h = h_max\n",
    "    ys[0] = y0\n",
    "    ts[0] = t0\n",
    "    flag = False\n",
    "    i = 0\n",
    "    while i < tk:\n",
    "        \"\"\"\n",
    "        h2 = tk - ts[i]\n",
    "        if abs(h2) <= h:\n",
    "            flag = True\n",
    "            h = h2\n",
    "        \"\"\"\n",
    "        f1 = h * f(ts[i], ys[i])\n",
    "        f2 = h * f(ts[i] + 0.25 * h, ys[i] + 0.25 * f1)\n",
    "        f3 = h * f(ts[i] + h * 0.375, ys[i] + 0.09375 * f1 + 0.28125 * f2)\n",
    "        f4 = h * f(ts[i] + h * 0.92307, ys[i] + 0.8794 * f1 - 3.2772 * f2 + 3.3209 * f3) \n",
    "        f5 = h * f(ts[i] + h, ys[i] + 2.0324 * f1 - 8 * f2 + 7.1734 * f3 - 0.2059 * f4) \n",
    "        f6 = h * f(ts[i] + h * 0.5, ys[i] - 0.2963 * f1 + 2 * f2 - 1.3817 * f3 + 0.4530 * f4 - 0.275 * f5) \n",
    "\n",
    "        y = ys[i] + ( 0.1185 * f1 + 0.5190 * f3 + 0.5061 * f4 - 0.18 * f5 + 0.3636 * f6)\n",
    "        err = 0.0028 * f1 - 0.030 * f3 - 0.2920 *  f4 + 0.02 * f5 + 0.3636 * f6\n",
    "        if abs(err) < delta:\n",
    "            ts[i + 1] = ts[i] + h\n",
    "            ys[i + 1] = y\n",
    "        else:\n",
    "            if abs(err) < top_v / 128.0:\n",
    "                h = 2 * h\n",
    "                ys[i + 1] = y\n",
    "            else:\n",
    "                ts[i + 1] = ts[i] + h\n",
    "                i += 1\n",
    "                if flag:\n",
    "                    break\n",
    "    return ts, ys\n",
    "\n",
    "\n",
    "\n",
    "###DANE##\n",
    "t0 = 0\n",
    "tk = 3\n",
    "y0 = -1\n",
    "h = 0.1\n",
    "n = (tk + h) // h\n",
    "f = lambda t, y: np.sin(y ** 2)\n",
    "#f = lambda y,t: np.sin(y**2)\n",
    "#ts_, ys_ = euler_method(f, t0, y0, h, int(n))\n",
    "\n",
    "for y0 in np.arange(-3,3,0.25):\n",
    "    ts_, ys_ = rungeKuttaFehlberg_method(f, t0, y0, h, h + 1, int(n))\n",
    "    plt.plot(ts_, ys_, 'b-')#numerical\n",
    "\n",
    "###WYKRES###\n",
    "#plt.plot(ts_, ys_, 'r.-')#numerical\n",
    "#plt.plot(ts_, -1 / (ts_ + 1), 'b')\n",
    "#plt.legend(['Euler', 'anlitycznie'])\n",
    "plt.grid(1)\n",
    "#plt.axis([0, tk, 0, ys_[-1] + 1])\n",
    "plt.show()\n",
    "\n",
    "\n",
    "###WYKRES###\n",
    "plt.plot(ts_, ys_, 'r.-')\n",
    "plt.grid(1)\n",
    "plt.show()\n"
   ]
  },
  {
   "cell_type": "markdown",
   "metadata": {},
   "source": [
    "## Metody Wielokrokowe"
   ]
  },
  {
   "cell_type": "markdown",
   "metadata": {},
   "source": [
    "Metody opisane do tej pory noszą nazwę metod jednokrokowych, gdyż wartości w kolejnych krokach zależne są tylko od poprzedniego kroku. Inną klasą rozwiązań są metody wielokrokowe, które swoje skomplikowanie rekompensują większą precyzją, gdyż wartości w kolejnych krokach uzależnione od większej ilości rezultatów poprzednich obliczeń."
   ]
  },
  {
   "cell_type": "markdown",
   "metadata": {},
   "source": [
    "Metoda Adamsa-Bashforta"
   ]
  },
  {
   "cell_type": "markdown",
   "metadata": {},
   "source": [
    "Niech $f_i:=f(t_i,y_i)$, gdzie $y_i$ jest przybliżoną wartością rozwiązania zagadnienia początkowego w punkcie $t_i$ z $$y(t_{n+1})=y(t_n)+\\int_{t_n}^{t_n+1}f(t,y(t))\\text{d}t$$ oraz przybliżenia\n",
    "$$\n",
    "\\int_{t_n}^{t_{n+1}}f\\text{d}t= C_1f_n+C_2f_{n-1} + C_3f_{n-2} + \\dots\n",
    "$$\n",
    "mamy\n",
    "$$\n",
    "y_{n+1}=y_n + C_1f_n+C_2f_{n-1}+C_3f_{n-2}+\\dots .\n",
    "$$ Analogicznie do poprzednich metod, jeśli weźmiemy wyrazy do $f_{n-4}$ to nazywać to będziemy metodą stopnia 5. Ogólnie widzimy, że metoda Adamsa opierają się na przybliżaniu całki przez wielomianem k-tego stopnia. Do wyznaczenia współczynników wielomianu stopnia $k$ musimy wykorzystać $k+1$ punktów wcześniej wyznaczonych. Ponownie można zauważyć, że metoda ta stopnia 1 da wzór Eulera. Niech nasz wielomian to $P_4(t)=C_1t^4+c_2t^3+C_3t^2+C_4t+C_5$. Wtedy otrzymujemy następujący układ równań \n",
    "$$\\begin{cases}\n",
    "C_1t_n^4+c_2t_n^3+C_3t_n^2+C_4t_n+C_5=f_n,\\\\\n",
    "C_1t_{n-1}^4+C_2t_{n-1}^3+C_3t_{n-1}^2+C_4t_{n-1}+C_5=f_{n-1},\\\\\n",
    "C_1t_{n-2}^4+C_2t_{n-2}^3+C_3t_{n-2}^2+C_4t_{n-2}+C_5=f_{n-2},\\\\\n",
    "C_1t_{n-3}^4+C_2t_{n-3}^3+C_3t_{n-3}^2+C_4t_{n-3}+C_5=f_{n-3},\\\\\n",
    "C_1t_{n-4}^4+C_2t_{n-4}^3+C_3t_{n-4}^2+C_4t_{n-4}+C_5=f_{n-4}.\\\\\n",
    "\\end{cases}\n",
    "$$\n",
    "Wykorzystując znane nam metody algebraiczne rozwiązujemy układ równań i znajdujemy współczynniki wielomianu. Finalnie otrzymujemy wzór \n",
    "$$\n",
    "y_{n+1}=y_n+\\frac{1}{720}h(1901f_n-2774f_{n-1}+2616f_{n-2}-1274f_{n-3}+251f_{n-4})\n",
    "$$"
   ]
  },
  {
   "cell_type": "markdown",
   "metadata": {},
   "source": [
    "Zauważmy, że jeśli nie jest to zadane, to musimy skorzystać z innej metody numerycznej do wyznaczenia pierwszych wartości $f_{n-1}, f_{n-2},f_{n-3},f_{n-4}$. Można tu choćby sięgnąć choćby po wcześniej zaaplikowaną metodę Runge-Knutta."
   ]
  },
  {
   "cell_type": "code",
   "execution_count": null,
   "metadata": {},
   "outputs": [
    {
     "data": {
      "image/png": "[encoded data removed]",
      "text/plain": [
       "<Figure size 432x288 with 1 Axes>"
      ]
     },
     "metadata": {
      "needs_background": "light"
     },
     "output_type": "display_data"
    }
   ],
   "source": [
    "###IMPLEMENTACJA METODY NUMERYCZNEJ###\n",
    "def adamsBashfort_method(f, t0, y0, h, n):\n",
    "    ys = np.ndarray(n + 1, dtype = float)\n",
    "    ts = np.ndarray(n + 1, dtype = float)\n",
    "    ts[0:5], ys[0:5] = rungeKutta_method(f, t0, y0, h, 4)\n",
    "    fs = Queue()\n",
    "    for i in range(4):\n",
    "        fs.enqueue(f(ts[i], ys[i]))\n",
    "    \n",
    "    for i in range(4, n):\n",
    "        fs.enqueue(f(ts[i], ys[i]))\n",
    "        ys[i + 1] = ys[i] + h / 720.0 * (1901 * fs.get_item(4) - 2774 * fs.get_item(3) + 2616 * fs.get_item(2) - 1274 * fs.get_item(1) + 251 * fs.get_item(0))\n",
    "        fs.dequeue()\n",
    "        ts[i + 1] = ts[i] + h\n",
    "    return ts, ys\n",
    "\n",
    "\n",
    "###DANE##\n",
    "t0 = 0\n",
    "tk = 3\n",
    "y0 = -1\n",
    "h = 0.01\n",
    "n = (tk + h) // h\n",
    "f = lambda t, y: np.sin(y ** 2)\n",
    "for y0 in np.arange(-3,3,0.25):\n",
    "    ts_, ys_ = adamsBashfort_method(f, t0, y0, h, int(n))\n",
    "    plt.plot(ts_, ys_, 'b-')#numerical\n",
    "\n",
    "###WYKRES###\n",
    "plt.grid(1)\n",
    "plt.show()\n"
   ]
  },
  {
   "cell_type": "markdown",
   "metadata": {},
   "source": [
    "Jeśli w powyższym założeniu weźmiemy, że wartość szukanej całki zależeć będzie także od punktu $(t_{n+1},y_{n+1})$ to możemy dokonać przedstawienia $$\n",
    "y_{n+1}=y_n+C_1f_{n+1} + C_2f_n + C_3f_{n-1} + \\dots.\n",
    "$$\n",
    "Postępując analogicznie jak wcześniej otrzymamy wzór zwany wzorem Adamsa-Moultona \n",
    "$$\n",
    "y_{n+1}=y_n+\\frac{1}{720}h(251f_{n+1}+646f_{n}-264f_{n-1}+106f_{n-2}+19f_{n-3}),\n",
    "$$\n",
    "w tym ptzypadku rzędu 5. Wiąże się to z dodatkowym problmem znalezienia wartości $y_{n+1}$. Stąd też koncept stosowania innej metody numerycznej do wyznaczania kolejnych punktów i kolejne ich \"korygowanie\" danym wzorem, stąd też określa się ją często mianem metody typu predyktor-korektor. Oto imlementacja Adamsa Moultona rzędu 5."
   ]
  },
  {
   "cell_type": "code",
   "execution_count": null,
   "metadata": {},
   "outputs": [
    {
     "data": {
      "image/png": "[encoded data removed]",
      "text/plain": [
       "<Figure size 432x288 with 1 Axes>"
      ]
     },
     "metadata": {
      "needs_background": "light"
     },
     "output_type": "display_data"
    }
   ],
   "source": [
    "###IMPLEMENTACJA METODY NUMERYCZNEJ###\n",
    "def adamsMoulton_method(f, t0, y0, h, n):\n",
    "    ys = np.ndarray(n + 1, dtype = float)\n",
    "    ts = np.ndarray(n + 1, dtype = float)\n",
    "    ts[0:5], ys[0:5] = rungeKutta_method(f, t0, y0, h, 4)\n",
    "    fs = Queue()\n",
    "    for i in range(5):\n",
    "        fs.enqueue(f(ts[i], ys[i]))\n",
    "    \n",
    "    for i in range(4, n):\n",
    "        ts[i + 1] = ts[i] + h\n",
    "        ys[i + 1] = ys[i] + h / 720.0 * (1901 * fs.get_item(4) - 2774 * fs.get_item(3) + 2616 * fs.get_item(2) - 1274 * fs.get_item(1) + 251 * fs.get_item(0))\n",
    "        fs.enqueue(f(ts[i + 1], ys[i + 1]))\n",
    "        fs.dequeue()\n",
    "        ys[i + 1] = ys[i] + h / 720.0 * (251 * fs.get_item(4) + 646 * fs.get_item(3) - 264 * fs.get_item(2) + 106 * fs.get_item(1) + 19 * fs.get_item(0))\n",
    "    return ts, ys\n",
    "\n",
    "\n",
    "\n",
    "###DANE##\n",
    "t0 = 0\n",
    "tk = 3\n",
    "y0 = -1\n",
    "h = 0.01\n",
    "n = (tk + h) // h\n",
    "f = lambda t, y: np.sin(y ** 2)\n",
    "for y0 in np.arange(-3,3,0.25):\n",
    "    ts_, ys_ = adamsMoulton_method(f, t0, y0, h, int(n))\n",
    "    plt.plot(ts_, ys_, 'b-')#numerical\n",
    "\n",
    "###WYKRES###\n",
    "plt.grid(1)\n",
    "plt.show()\n",
    "\n",
    "\n"
   ]
  },
  {
   "cell_type": "markdown",
   "metadata": {},
   "source": [
    "# Część IV: Wnioski"
   ]
  },
  {
   "cell_type": "markdown",
   "metadata": {},
   "source": []
  },
  {
   "cell_type": "markdown",
   "metadata": {},
   "source": [
    "# Bibliografia"
   ]
  },
  {
   "cell_type": "markdown",
   "metadata": {},
   "source": [
    "William E. Boyce, Richard C. Dirprima, Douglas B. Meade, Elementary \"Differential Equations and Boundary Value Problems 11th Edition\", USA\n",
    "David Kinciad, Ward Cheney, \"Analiza numeryczna\", Warszawa 2006\n",
    "Edwin \"Jed\" Herman, Gilbert Strang, \"Calculus Volume 3\", Houston 2016\n",
    "L.Glass, J.D. Murray, \"Mathematical Biology I: An Introduction Third Edition\""
   ]
  }
 ],
 "metadata": {
  "interpreter": {
   "hash": "07efdcd4b820c98a756949507a4d29d7862823915ec7477944641bea022f4f62"
  },
  "kernelspec": {
   "display_name": "Python 3.8.5 32-bit ('base': conda)",
   "name": "python3"
  },
  "language_info": {
   "name": "python",
   "version": ""
  }
 },
 "nbformat": 4,
 "nbformat_minor": 5
}